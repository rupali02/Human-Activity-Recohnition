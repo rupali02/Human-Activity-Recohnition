{
 "cells": [
  {
   "cell_type": "code",
   "execution_count": 4,
   "metadata": {},
   "outputs": [],
   "source": [
    "import numpy as np\n",
    "import pandas as pd\n",
    "import matplotlib.pyplot as plt"
   ]
  },
  {
   "cell_type": "code",
   "execution_count": 5,
   "metadata": {},
   "outputs": [
    {
     "data": {
      "text/plain": [
       "Index(['TimeStamps', 'AnkleAccelerometer', 'Unnamed: 2', 'Unnamed: 3',\n",
       "       'AnkleAngularVelocity', 'Unnamed: 5', 'Unnamed: 6', 'AnkleLuminosity',\n",
       "       'RightPocketAccelerometer', 'Unnamed: 9', 'Unnamed: 10',\n",
       "       'RightPocketAngularVelocity', 'Unnamed: 12', 'Unnamed: 13',\n",
       "       'RightPocketLuminosity', 'BeltAccelerometer', 'Unnamed: 16',\n",
       "       'Unnamed: 17', 'BeltAngularVelocity', 'Unnamed: 19', 'Unnamed: 20',\n",
       "       'BeltLuminosity', 'NeckAccelerometer', 'Unnamed: 23', 'Unnamed: 24',\n",
       "       'NeckAngularVelocity', 'Unnamed: 26', 'Unnamed: 27', 'NeckLuminosity',\n",
       "       'WristAccelerometer', 'Unnamed: 30', 'Unnamed: 31',\n",
       "       'WristAngularVelocity', 'Unnamed: 33', 'Unnamed: 34', 'WristLuminosity',\n",
       "       'BrainSensor', 'Infrared1', 'Infrared2', 'Infrared3', 'Infrared4',\n",
       "       'Infrared5', 'Infrared6', 'Subject', 'Activity', 'Trial', 'Tag'],\n",
       "      dtype='object')"
      ]
     },
     "execution_count": 5,
     "metadata": {},
     "output_type": "execute_result"
    }
   ],
   "source": [
    "df=pd.read_csv(\"CompleteDataSet.csv\",low_memory=False,skiprows=[1])\n",
    "df.columns"
   ]
  },
  {
   "cell_type": "code",
   "execution_count": 6,
   "metadata": {},
   "outputs": [],
   "source": [
    "data=df[['AnkleAccelerometer', 'Unnamed: 2', 'Unnamed: 3',\n",
    "       'AnkleAngularVelocity', 'Unnamed: 5', 'Unnamed: 6','Activity']]"
   ]
  },
  {
   "cell_type": "code",
   "execution_count": 7,
   "metadata": {},
   "outputs": [
    {
     "name": "stderr",
     "output_type": "stream",
     "text": [
      "C:\\Users\\Rupali\\Anaconda3\\lib\\site-packages\\ipykernel_launcher.py:1: SettingWithCopyWarning: \n",
      "A value is trying to be set on a copy of a slice from a DataFrame.\n",
      "Try using .loc[row_indexer,col_indexer] = value instead\n",
      "\n",
      "See the caveats in the documentation: http://pandas.pydata.org/pandas-docs/stable/user_guide/indexing.html#returning-a-view-versus-a-copy\n",
      "  \"\"\"Entry point for launching an IPython kernel.\n",
      "C:\\Users\\Rupali\\Anaconda3\\lib\\site-packages\\ipykernel_launcher.py:2: SettingWithCopyWarning: \n",
      "A value is trying to be set on a copy of a slice from a DataFrame.\n",
      "Try using .loc[row_indexer,col_indexer] = value instead\n",
      "\n",
      "See the caveats in the documentation: http://pandas.pydata.org/pandas-docs/stable/user_guide/indexing.html#returning-a-view-versus-a-copy\n",
      "  \n",
      "C:\\Users\\Rupali\\Anaconda3\\lib\\site-packages\\ipykernel_launcher.py:3: SettingWithCopyWarning: \n",
      "A value is trying to be set on a copy of a slice from a DataFrame.\n",
      "Try using .loc[row_indexer,col_indexer] = value instead\n",
      "\n",
      "See the caveats in the documentation: http://pandas.pydata.org/pandas-docs/stable/user_guide/indexing.html#returning-a-view-versus-a-copy\n",
      "  This is separate from the ipykernel package so we can avoid doing imports until\n",
      "C:\\Users\\Rupali\\Anaconda3\\lib\\site-packages\\ipykernel_launcher.py:4: SettingWithCopyWarning: \n",
      "A value is trying to be set on a copy of a slice from a DataFrame.\n",
      "Try using .loc[row_indexer,col_indexer] = value instead\n",
      "\n",
      "See the caveats in the documentation: http://pandas.pydata.org/pandas-docs/stable/user_guide/indexing.html#returning-a-view-versus-a-copy\n",
      "  after removing the cwd from sys.path.\n",
      "C:\\Users\\Rupali\\Anaconda3\\lib\\site-packages\\ipykernel_launcher.py:5: SettingWithCopyWarning: \n",
      "A value is trying to be set on a copy of a slice from a DataFrame.\n",
      "Try using .loc[row_indexer,col_indexer] = value instead\n",
      "\n",
      "See the caveats in the documentation: http://pandas.pydata.org/pandas-docs/stable/user_guide/indexing.html#returning-a-view-versus-a-copy\n",
      "  \"\"\"\n",
      "C:\\Users\\Rupali\\Anaconda3\\lib\\site-packages\\ipykernel_launcher.py:6: SettingWithCopyWarning: \n",
      "A value is trying to be set on a copy of a slice from a DataFrame.\n",
      "Try using .loc[row_indexer,col_indexer] = value instead\n",
      "\n",
      "See the caveats in the documentation: http://pandas.pydata.org/pandas-docs/stable/user_guide/indexing.html#returning-a-view-versus-a-copy\n",
      "  \n",
      "C:\\Users\\Rupali\\Anaconda3\\lib\\site-packages\\ipykernel_launcher.py:9: SettingWithCopyWarning: \n",
      "A value is trying to be set on a copy of a slice from a DataFrame.\n",
      "Try using .loc[row_indexer,col_indexer] = value instead\n",
      "\n",
      "See the caveats in the documentation: http://pandas.pydata.org/pandas-docs/stable/user_guide/indexing.html#returning-a-view-versus-a-copy\n",
      "  if __name__ == '__main__':\n"
     ]
    }
   ],
   "source": [
    "data[\"AnkleAccelerometer\"]=data[\"AnkleAccelerometer\"].astype(\"float\")\n",
    "data[\"Unnamed: 2\"]=data[\"Unnamed: 2\"].astype(\"float\")\n",
    "data[\"Unnamed: 3\"]=data[\"Unnamed: 3\"].astype(\"float\")\n",
    "data[\"AnkleAngularVelocity\"]=data[\"AnkleAngularVelocity\"].astype(\"float\")\n",
    "data[\"Unnamed: 5\"]=data[\"Unnamed: 5\"].astype(\"float\")\n",
    "data[\"Unnamed: 6\"]=data[\"Unnamed: 6\"].astype(\"float\")\n",
    "\n",
    "\n",
    "data[\"Activity\"]=data[\"Activity\"].astype(\"float\")"
   ]
  },
  {
   "cell_type": "code",
   "execution_count": 8,
   "metadata": {},
   "outputs": [],
   "source": [
    "Walking=data[data[\"Activity\"]==6].head(8872)\n",
    "Standing=data[data[\"Activity\"]==7].head(8872)\n",
    "Sitting=data[data[\"Activity\"]==8].head(8872)\n",
    "Laying=data[data[\"Activity\"]==11].head(8872)\n",
    "Jumping=data[data[\"Activity\"]==10].head(8872)\n",
    "Falling_sideways=data[data[\"Activity\"]==4].head(8872)\n",
    "Falling_backwards=data[data[\"Activity\"]==3].head(8872)\n",
    "Falling_forward_using_hands=data[data[\"Activity\"]==1].head(8872)\n",
    "Falling_forward_using_knees=data[data[\"Activity\"]==2].head(8872)\n",
    "Falling_sitting_in_empty_chair=data[data[\"Activity\"]==5].head(8872)\n",
    "Picking_up_an_object=data[data[\"Activity\"]==9].head(8872)"
   ]
  },
  {
   "cell_type": "code",
   "execution_count": 9,
   "metadata": {},
   "outputs": [
    {
     "name": "stdout",
     "output_type": "stream",
     "text": [
      "7.0     8872\n",
      "5.0     8872\n",
      "9.0     8872\n",
      "4.0     8872\n",
      "11.0    8872\n",
      "3.0     8872\n",
      "10.0    8872\n",
      "2.0     8872\n",
      "1.0     8872\n",
      "8.0     8872\n",
      "6.0     8872\n",
      "Name: Activity, dtype: int64\n"
     ]
    },
    {
     "data": {
      "text/plain": [
       "(97592, 7)"
      ]
     },
     "execution_count": 9,
     "metadata": {},
     "output_type": "execute_result"
    }
   ],
   "source": [
    "bal_data=pd.DataFrame()\n",
    "bal_data=bal_data.append([Walking,Standing,Sitting,Laying,Jumping,Falling_sideways,Falling_backwards,\n",
    "                          Falling_forward_using_hands,Falling_forward_using_knees,Falling_sitting_in_empty_chair,\n",
    "                          Picking_up_an_object])\n",
    "print(bal_data[\"Activity\"].value_counts())\n",
    "np.shape(bal_data)"
   ]
  },
  {
   "cell_type": "code",
   "execution_count": 10,
   "metadata": {},
   "outputs": [],
   "source": [
    "x=bal_data[['AnkleAccelerometer', 'Unnamed: 2', 'Unnamed: 3',\n",
    "       'AnkleAngularVelocity', 'Unnamed: 5', 'Unnamed: 6']]\n",
    "y=bal_data[\"Activity\"]"
   ]
  },
  {
   "cell_type": "code",
   "execution_count": 11,
   "metadata": {},
   "outputs": [
    {
     "data": {
      "text/html": [
       "<div>\n",
       "<style scoped>\n",
       "    .dataframe tbody tr th:only-of-type {\n",
       "        vertical-align: middle;\n",
       "    }\n",
       "\n",
       "    .dataframe tbody tr th {\n",
       "        vertical-align: top;\n",
       "    }\n",
       "\n",
       "    .dataframe thead th {\n",
       "        text-align: right;\n",
       "    }\n",
       "</style>\n",
       "<table border=\"1\" class=\"dataframe\">\n",
       "  <thead>\n",
       "    <tr style=\"text-align: right;\">\n",
       "      <th></th>\n",
       "      <th>AnkleAccelerometer</th>\n",
       "      <th>Unnamed: 2</th>\n",
       "      <th>Unnamed: 3</th>\n",
       "      <th>AnkleAngularVelocity</th>\n",
       "      <th>Unnamed: 5</th>\n",
       "      <th>Unnamed: 6</th>\n",
       "      <th>Activity</th>\n",
       "      <th>label</th>\n",
       "    </tr>\n",
       "  </thead>\n",
       "  <tbody>\n",
       "    <tr>\n",
       "      <td>2832</td>\n",
       "      <td>-1.398</td>\n",
       "      <td>0.154</td>\n",
       "      <td>-0.100</td>\n",
       "      <td>10.854</td>\n",
       "      <td>10.000</td>\n",
       "      <td>-99.146</td>\n",
       "      <td>6.0</td>\n",
       "      <td>5</td>\n",
       "    </tr>\n",
       "    <tr>\n",
       "      <td>2833</td>\n",
       "      <td>-1.398</td>\n",
       "      <td>0.154</td>\n",
       "      <td>-0.100</td>\n",
       "      <td>20.793</td>\n",
       "      <td>19.756</td>\n",
       "      <td>-137.622</td>\n",
       "      <td>6.0</td>\n",
       "      <td>5</td>\n",
       "    </tr>\n",
       "    <tr>\n",
       "      <td>2834</td>\n",
       "      <td>-2.010</td>\n",
       "      <td>0.659</td>\n",
       "      <td>-0.078</td>\n",
       "      <td>40.915</td>\n",
       "      <td>37.134</td>\n",
       "      <td>-190.488</td>\n",
       "      <td>6.0</td>\n",
       "      <td>5</td>\n",
       "    </tr>\n",
       "    <tr>\n",
       "      <td>2835</td>\n",
       "      <td>-2.010</td>\n",
       "      <td>0.659</td>\n",
       "      <td>-0.078</td>\n",
       "      <td>115.549</td>\n",
       "      <td>29.085</td>\n",
       "      <td>-253.720</td>\n",
       "      <td>6.0</td>\n",
       "      <td>5</td>\n",
       "    </tr>\n",
       "    <tr>\n",
       "      <td>2836</td>\n",
       "      <td>-1.099</td>\n",
       "      <td>-0.044</td>\n",
       "      <td>-0.790</td>\n",
       "      <td>-51.098</td>\n",
       "      <td>5.732</td>\n",
       "      <td>-147.805</td>\n",
       "      <td>6.0</td>\n",
       "      <td>5</td>\n",
       "    </tr>\n",
       "  </tbody>\n",
       "</table>\n",
       "</div>"
      ],
      "text/plain": [
       "      AnkleAccelerometer  Unnamed: 2  Unnamed: 3  AnkleAngularVelocity  \\\n",
       "2832              -1.398       0.154      -0.100                10.854   \n",
       "2833              -1.398       0.154      -0.100                20.793   \n",
       "2834              -2.010       0.659      -0.078                40.915   \n",
       "2835              -2.010       0.659      -0.078               115.549   \n",
       "2836              -1.099      -0.044      -0.790               -51.098   \n",
       "\n",
       "      Unnamed: 5  Unnamed: 6  Activity  label  \n",
       "2832      10.000     -99.146       6.0      5  \n",
       "2833      19.756    -137.622       6.0      5  \n",
       "2834      37.134    -190.488       6.0      5  \n",
       "2835      29.085    -253.720       6.0      5  \n",
       "2836       5.732    -147.805       6.0      5  "
      ]
     },
     "execution_count": 11,
     "metadata": {},
     "output_type": "execute_result"
    }
   ],
   "source": [
    "from sklearn.preprocessing import LabelEncoder\n",
    "label = LabelEncoder()\n",
    "bal_data['label'] = label.fit_transform(bal_data['Activity'])\n",
    "bal_data.head()"
   ]
  },
  {
   "cell_type": "code",
   "execution_count": 12,
   "metadata": {},
   "outputs": [],
   "source": [
    "x=bal_data[['AnkleAccelerometer', 'Unnamed: 2', 'Unnamed: 3',\n",
    "       'AnkleAngularVelocity', 'Unnamed: 5', 'Unnamed: 6']]\n",
    "y=bal_data[\"label\"]"
   ]
  },
  {
   "cell_type": "code",
   "execution_count": 13,
   "metadata": {},
   "outputs": [
    {
     "data": {
      "text/html": [
       "<div>\n",
       "<style scoped>\n",
       "    .dataframe tbody tr th:only-of-type {\n",
       "        vertical-align: middle;\n",
       "    }\n",
       "\n",
       "    .dataframe tbody tr th {\n",
       "        vertical-align: top;\n",
       "    }\n",
       "\n",
       "    .dataframe thead th {\n",
       "        text-align: right;\n",
       "    }\n",
       "</style>\n",
       "<table border=\"1\" class=\"dataframe\">\n",
       "  <thead>\n",
       "    <tr style=\"text-align: right;\">\n",
       "      <th></th>\n",
       "      <th>AnkleAccelerometer</th>\n",
       "      <th>Unnamed: 2</th>\n",
       "      <th>Unnamed: 3</th>\n",
       "      <th>AnkleAngularVelocity</th>\n",
       "      <th>Unnamed: 5</th>\n",
       "      <th>Unnamed: 6</th>\n",
       "    </tr>\n",
       "  </thead>\n",
       "  <tbody>\n",
       "    <tr>\n",
       "      <td>0</td>\n",
       "      <td>-1.392580</td>\n",
       "      <td>0.113115</td>\n",
       "      <td>0.137171</td>\n",
       "      <td>0.336491</td>\n",
       "      <td>0.256448</td>\n",
       "      <td>-1.512785</td>\n",
       "    </tr>\n",
       "    <tr>\n",
       "      <td>1</td>\n",
       "      <td>-1.392580</td>\n",
       "      <td>0.113115</td>\n",
       "      <td>0.137171</td>\n",
       "      <td>0.584950</td>\n",
       "      <td>0.523091</td>\n",
       "      <td>-2.100511</td>\n",
       "    </tr>\n",
       "    <tr>\n",
       "      <td>2</td>\n",
       "      <td>-2.354521</td>\n",
       "      <td>0.971511</td>\n",
       "      <td>0.185314</td>\n",
       "      <td>1.087969</td>\n",
       "      <td>0.998052</td>\n",
       "      <td>-2.908045</td>\n",
       "    </tr>\n",
       "    <tr>\n",
       "      <td>3</td>\n",
       "      <td>-2.354521</td>\n",
       "      <td>0.971511</td>\n",
       "      <td>0.185314</td>\n",
       "      <td>2.953702</td>\n",
       "      <td>0.778063</td>\n",
       "      <td>-3.873921</td>\n",
       "    </tr>\n",
       "    <tr>\n",
       "      <td>4</td>\n",
       "      <td>-0.922612</td>\n",
       "      <td>-0.223444</td>\n",
       "      <td>-1.372748</td>\n",
       "      <td>-1.212213</td>\n",
       "      <td>0.139799</td>\n",
       "      <td>-2.256057</td>\n",
       "    </tr>\n",
       "    <tr>\n",
       "      <td>...</td>\n",
       "      <td>...</td>\n",
       "      <td>...</td>\n",
       "      <td>...</td>\n",
       "      <td>...</td>\n",
       "      <td>...</td>\n",
       "      <td>...</td>\n",
       "    </tr>\n",
       "    <tr>\n",
       "      <td>97587</td>\n",
       "      <td>2.323152</td>\n",
       "      <td>-0.078961</td>\n",
       "      <td>0.555135</td>\n",
       "      <td>0.039234</td>\n",
       "      <td>0.003143</td>\n",
       "      <td>0.001681</td>\n",
       "    </tr>\n",
       "    <tr>\n",
       "      <td>97588</td>\n",
       "      <td>2.324724</td>\n",
       "      <td>-0.078961</td>\n",
       "      <td>0.557323</td>\n",
       "      <td>0.040759</td>\n",
       "      <td>0.003143</td>\n",
       "      <td>0.004477</td>\n",
       "    </tr>\n",
       "    <tr>\n",
       "      <td>97589</td>\n",
       "      <td>2.321581</td>\n",
       "      <td>-0.080661</td>\n",
       "      <td>0.557323</td>\n",
       "      <td>0.045334</td>\n",
       "      <td>0.001476</td>\n",
       "      <td>0.004477</td>\n",
       "    </tr>\n",
       "    <tr>\n",
       "      <td>97590</td>\n",
       "      <td>2.321581</td>\n",
       "      <td>-0.080661</td>\n",
       "      <td>0.557323</td>\n",
       "      <td>0.048384</td>\n",
       "      <td>0.003143</td>\n",
       "      <td>0.004477</td>\n",
       "    </tr>\n",
       "    <tr>\n",
       "      <td>97591</td>\n",
       "      <td>2.323152</td>\n",
       "      <td>-0.082361</td>\n",
       "      <td>0.557323</td>\n",
       "      <td>0.046859</td>\n",
       "      <td>0.003143</td>\n",
       "      <td>0.003545</td>\n",
       "    </tr>\n",
       "  </tbody>\n",
       "</table>\n",
       "<p>97592 rows × 6 columns</p>\n",
       "</div>"
      ],
      "text/plain": [
       "       AnkleAccelerometer  Unnamed: 2  Unnamed: 3  AnkleAngularVelocity  \\\n",
       "0               -1.392580    0.113115    0.137171              0.336491   \n",
       "1               -1.392580    0.113115    0.137171              0.584950   \n",
       "2               -2.354521    0.971511    0.185314              1.087969   \n",
       "3               -2.354521    0.971511    0.185314              2.953702   \n",
       "4               -0.922612   -0.223444   -1.372748             -1.212213   \n",
       "...                   ...         ...         ...                   ...   \n",
       "97587            2.323152   -0.078961    0.555135              0.039234   \n",
       "97588            2.324724   -0.078961    0.557323              0.040759   \n",
       "97589            2.321581   -0.080661    0.557323              0.045334   \n",
       "97590            2.321581   -0.080661    0.557323              0.048384   \n",
       "97591            2.323152   -0.082361    0.557323              0.046859   \n",
       "\n",
       "       Unnamed: 5  Unnamed: 6  \n",
       "0        0.256448   -1.512785  \n",
       "1        0.523091   -2.100511  \n",
       "2        0.998052   -2.908045  \n",
       "3        0.778063   -3.873921  \n",
       "4        0.139799   -2.256057  \n",
       "...           ...         ...  \n",
       "97587    0.003143    0.001681  \n",
       "97588    0.003143    0.004477  \n",
       "97589    0.001476    0.004477  \n",
       "97590    0.003143    0.004477  \n",
       "97591    0.003143    0.003545  \n",
       "\n",
       "[97592 rows x 6 columns]"
      ]
     },
     "execution_count": 13,
     "metadata": {},
     "output_type": "execute_result"
    }
   ],
   "source": [
    "from sklearn.preprocessing import StandardScaler, LabelEncoder\n",
    "scaler = StandardScaler()\n",
    "X = scaler.fit_transform(x)\n",
    "\n",
    "X = pd.DataFrame(data = X, columns = ['AnkleAccelerometer', 'Unnamed: 2', 'Unnamed: 3',\n",
    "       'AnkleAngularVelocity', 'Unnamed: 5', 'Unnamed: 6'])\n",
    "\n",
    "\n",
    "X"
   ]
  },
  {
   "cell_type": "code",
   "execution_count": 14,
   "metadata": {},
   "outputs": [],
   "source": [
    "from sklearn import svm\n",
    "from sklearn.model_selection import train_test_split \n",
    "X_train, X_test, y_train, y_test = train_test_split(X, y, test_size = 0.3, random_state = 0, stratify = y)"
   ]
  },
  {
   "cell_type": "code",
   "execution_count": 15,
   "metadata": {},
   "outputs": [
    {
     "data": {
      "text/plain": [
       "((68314, 6), (68314,))"
      ]
     },
     "execution_count": 15,
     "metadata": {},
     "output_type": "execute_result"
    }
   ],
   "source": [
    "X_train.shape,y_train.shape"
   ]
  },
  {
   "cell_type": "code",
   "execution_count": 16,
   "metadata": {},
   "outputs": [
    {
     "data": {
      "text/plain": [
       "((29278, 6), (29278,))"
      ]
     },
     "execution_count": 16,
     "metadata": {},
     "output_type": "execute_result"
    }
   ],
   "source": [
    "X_test.shape,y_test.shape"
   ]
  },
  {
   "cell_type": "code",
   "execution_count": 17,
   "metadata": {},
   "outputs": [],
   "source": [
    "from sklearn.neighbors import KNeighborsClassifier\n",
    "from sklearn.metrics import accuracy_score"
   ]
  },
  {
   "cell_type": "code",
   "execution_count": 18,
   "metadata": {},
   "outputs": [],
   "source": [
    "knn=KNeighborsClassifier(n_neighbors=5)"
   ]
  },
  {
   "cell_type": "code",
   "execution_count": 19,
   "metadata": {},
   "outputs": [
    {
     "data": {
      "text/plain": [
       "KNeighborsClassifier(algorithm='auto', leaf_size=30, metric='minkowski',\n",
       "                     metric_params=None, n_jobs=None, n_neighbors=5, p=2,\n",
       "                     weights='uniform')"
      ]
     },
     "execution_count": 19,
     "metadata": {},
     "output_type": "execute_result"
    }
   ],
   "source": [
    "knn.fit(X_train,y_train)"
   ]
  },
  {
   "cell_type": "code",
   "execution_count": 20,
   "metadata": {},
   "outputs": [],
   "source": [
    "accuracy_train=accuracy_score(y_train,knn.predict(X_train))"
   ]
  },
  {
   "cell_type": "code",
   "execution_count": 21,
   "metadata": {},
   "outputs": [],
   "source": [
    "accuracy_test=accuracy_score(y_test,knn.predict(X_test))"
   ]
  },
  {
   "cell_type": "code",
   "execution_count": 22,
   "metadata": {},
   "outputs": [
    {
     "name": "stdout",
     "output_type": "stream",
     "text": [
      "0.8418266275018785\n",
      "0.8910911379805018\n"
     ]
    }
   ],
   "source": [
    "print(accuracy_test)\n",
    "print(accuracy_train)"
   ]
  },
  {
   "cell_type": "code",
   "execution_count": 23,
   "metadata": {},
   "outputs": [],
   "source": [
    "y_pred=knn.predict(X_test)"
   ]
  },
  {
   "cell_type": "code",
   "execution_count": 24,
   "metadata": {},
   "outputs": [
    {
     "data": {
      "text/plain": [
       "array([[2011,  195,   84,   44,   49,   68,   50,    7,   61,   87,    6],\n",
       "       [ 239, 2033,   85,   47,   47,   47,   19,   10,   43,   75,   17],\n",
       "       [ 151,  133, 1952,   65,  122,   29,   25,   31,   62,   83,    8],\n",
       "       [  77,   59,   62, 2223,   51,   32,   22,   19,   56,   38,   23],\n",
       "       [  91,   67,  172,   74, 1941,   57,   40,   40,   76,   72,   31],\n",
       "       [  24,   22,   10,    5,    5, 2506,   22,    8,   16,   44,    0],\n",
       "       [  10,    9,    9,    5,    9,   11, 2495,   23,   89,    2,    0],\n",
       "       [   7,    7,   23,   12,   20,   20,   41, 2505,   23,    4,    0],\n",
       "       [  51,   36,   61,   34,   74,   65,  193,   34, 2104,   10,    0],\n",
       "       [  60,   46,   64,   20,   48,   76,   11,    3,   51, 2282,    0],\n",
       "       [  18,    6,   10,   19,    8,    4,    0,    0,    0,    1, 2595]],\n",
       "      dtype=int64)"
      ]
     },
     "execution_count": 24,
     "metadata": {},
     "output_type": "execute_result"
    }
   ],
   "source": [
    "from sklearn.metrics import confusion_matrix\n",
    "cm=confusion_matrix(y_test,y_pred)\n",
    "cm"
   ]
  },
  {
   "cell_type": "code",
   "execution_count": 25,
   "metadata": {},
   "outputs": [],
   "source": [
    "m=cm/cm.sum(axis=1)\n",
    "cm=np.around(m,3)"
   ]
  },
  {
   "cell_type": "code",
   "execution_count": 26,
   "metadata": {},
   "outputs": [
    {
     "data": {
      "image/png": "[encoded data removed]",
      "text/plain": [
       "<Figure size 1080x720 with 2 Axes>"
      ]
     },
     "metadata": {
      "needs_background": "light"
     },
     "output_type": "display_data"
    }
   ],
   "source": [
    "import seaborn as sns\n",
    "axis_labels = ['Falling_Forward_Using_Hands','Falling_Forward_Using_Knees','Falling_Backwards','Falling_Sideways','Falling_Sitting_in_Empty_Chair','Walking','Standing','Sitting','Picking_Up_an_Object','Jumping','Laying']\n",
    "figure = plt.figure(figsize=(15,10))\n",
    "sns.heatmap(cm, annot=True, cmap=plt.cm.Greens, xticklabels=axis_labels, yticklabels=axis_labels)\n",
    "plt.ylim(len(cm),0,0)\n",
    "plt.tight_layout()\n",
    "plt.ylabel('True label')\n",
    "plt.xlabel('predicted label')\n",
    "plt.show()"
   ]
  },
  {
   "cell_type": "code",
   "execution_count": null,
   "metadata": {},
   "outputs": [],
   "source": []
  }
 ],
 "metadata": {
  "kernelspec": {
   "display_name": "Python 3",
   "language": "python",
   "name": "python3"
  },
  "language_info": {
   "codemirror_mode": {
    "name": "ipython",
    "version": 3
   },
   "file_extension": ".py",
   "mimetype": "text/x-python",
   "name": "python",
   "nbconvert_exporter": "python",
   "pygments_lexer": "ipython3",
   "version": "3.7.4"
  }
 },
 "nbformat": 4,
 "nbformat_minor": 2
}
