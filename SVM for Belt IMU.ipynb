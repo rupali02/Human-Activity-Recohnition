{
 "cells": [
  {
   "cell_type": "code",
   "execution_count": 1,
   "metadata": {},
   "outputs": [],
   "source": [
    "import numpy as np\n",
    "import pandas as pd\n",
    "import matplotlib.pyplot as plt"
   ]
  },
  {
   "cell_type": "code",
   "execution_count": 2,
   "metadata": {},
   "outputs": [],
   "source": [
    "df=pd.read_csv(\"CompleteDataSet.csv\",low_memory=False,skiprows=[1])"
   ]
  },
  {
   "cell_type": "code",
   "execution_count": 3,
   "metadata": {},
   "outputs": [],
   "source": [
    "data=df[['BeltAccelerometer', 'Unnamed: 16',\n",
    "       'Unnamed: 17', 'BeltAngularVelocity', 'Unnamed: 19', 'Unnamed: 20','Activity']]\n",
    "\n"
   ]
  },
  {
   "cell_type": "code",
   "execution_count": 4,
   "metadata": {},
   "outputs": [
    {
     "name": "stderr",
     "output_type": "stream",
     "text": [
      "C:\\Users\\Rupali\\Anaconda3\\lib\\site-packages\\ipykernel_launcher.py:1: SettingWithCopyWarning: \n",
      "A value is trying to be set on a copy of a slice from a DataFrame.\n",
      "Try using .loc[row_indexer,col_indexer] = value instead\n",
      "\n",
      "See the caveats in the documentation: http://pandas.pydata.org/pandas-docs/stable/user_guide/indexing.html#returning-a-view-versus-a-copy\n",
      "  \"\"\"Entry point for launching an IPython kernel.\n",
      "C:\\Users\\Rupali\\Anaconda3\\lib\\site-packages\\ipykernel_launcher.py:2: SettingWithCopyWarning: \n",
      "A value is trying to be set on a copy of a slice from a DataFrame.\n",
      "Try using .loc[row_indexer,col_indexer] = value instead\n",
      "\n",
      "See the caveats in the documentation: http://pandas.pydata.org/pandas-docs/stable/user_guide/indexing.html#returning-a-view-versus-a-copy\n",
      "  \n",
      "C:\\Users\\Rupali\\Anaconda3\\lib\\site-packages\\ipykernel_launcher.py:3: SettingWithCopyWarning: \n",
      "A value is trying to be set on a copy of a slice from a DataFrame.\n",
      "Try using .loc[row_indexer,col_indexer] = value instead\n",
      "\n",
      "See the caveats in the documentation: http://pandas.pydata.org/pandas-docs/stable/user_guide/indexing.html#returning-a-view-versus-a-copy\n",
      "  This is separate from the ipykernel package so we can avoid doing imports until\n",
      "C:\\Users\\Rupali\\Anaconda3\\lib\\site-packages\\ipykernel_launcher.py:4: SettingWithCopyWarning: \n",
      "A value is trying to be set on a copy of a slice from a DataFrame.\n",
      "Try using .loc[row_indexer,col_indexer] = value instead\n",
      "\n",
      "See the caveats in the documentation: http://pandas.pydata.org/pandas-docs/stable/user_guide/indexing.html#returning-a-view-versus-a-copy\n",
      "  after removing the cwd from sys.path.\n",
      "C:\\Users\\Rupali\\Anaconda3\\lib\\site-packages\\ipykernel_launcher.py:5: SettingWithCopyWarning: \n",
      "A value is trying to be set on a copy of a slice from a DataFrame.\n",
      "Try using .loc[row_indexer,col_indexer] = value instead\n",
      "\n",
      "See the caveats in the documentation: http://pandas.pydata.org/pandas-docs/stable/user_guide/indexing.html#returning-a-view-versus-a-copy\n",
      "  \"\"\"\n",
      "C:\\Users\\Rupali\\Anaconda3\\lib\\site-packages\\ipykernel_launcher.py:6: SettingWithCopyWarning: \n",
      "A value is trying to be set on a copy of a slice from a DataFrame.\n",
      "Try using .loc[row_indexer,col_indexer] = value instead\n",
      "\n",
      "See the caveats in the documentation: http://pandas.pydata.org/pandas-docs/stable/user_guide/indexing.html#returning-a-view-versus-a-copy\n",
      "  \n",
      "C:\\Users\\Rupali\\Anaconda3\\lib\\site-packages\\ipykernel_launcher.py:7: SettingWithCopyWarning: \n",
      "A value is trying to be set on a copy of a slice from a DataFrame.\n",
      "Try using .loc[row_indexer,col_indexer] = value instead\n",
      "\n",
      "See the caveats in the documentation: http://pandas.pydata.org/pandas-docs/stable/user_guide/indexing.html#returning-a-view-versus-a-copy\n",
      "  import sys\n"
     ]
    }
   ],
   "source": [
    "data[\"BeltAccelerometer\"]=data[\"BeltAccelerometer\"].astype(\"float\")\n",
    "data[\"Unnamed: 16\"]=data[\"Unnamed: 16\"].astype(\"float\")\n",
    "data[\"Unnamed: 17\"]=data[\"Unnamed: 17\"].astype(\"float\")\n",
    "data[\"BeltAngularVelocity\"]=data[\"BeltAngularVelocity\"].astype(\"float\")\n",
    "data[\"Unnamed: 19\"]=data[\"Unnamed: 19\"].astype(\"float\")\n",
    "data[\"Unnamed: 20\"]=data[\"Unnamed: 20\"].astype(\"float\")\n",
    "data[\"Activity\"]=data[\"Activity\"].astype(\"float\")\n"
   ]
  },
  {
   "cell_type": "code",
   "execution_count": 5,
   "metadata": {},
   "outputs": [],
   "source": [
    "Walking=data[data[\"Activity\"]==6].head(8872)\n",
    "Standing=data[data[\"Activity\"]==7].head(8872)\n",
    "Sitting=data[data[\"Activity\"]==8].head(8872)\n",
    "Laying=data[data[\"Activity\"]==11].head(8872)\n",
    "Jumping=data[data[\"Activity\"]==10].head(8872)\n",
    "Falling_sideways=data[data[\"Activity\"]==4].head(8872)\n",
    "Falling_backwards=data[data[\"Activity\"]==3].head(8872)\n",
    "Falling_forward_using_hands=data[data[\"Activity\"]==1].head(8872)\n",
    "Falling_forward_using_knees=data[data[\"Activity\"]==2].head(8872)\n",
    "Falling_sitting_in_empty_chair=data[data[\"Activity\"]==5].head(8872)\n",
    "Picking_up_an_object=data[data[\"Activity\"]==9].head(8872)\n"
   ]
  },
  {
   "cell_type": "code",
   "execution_count": 6,
   "metadata": {},
   "outputs": [
    {
     "name": "stdout",
     "output_type": "stream",
     "text": [
      "7.0     8872\n",
      "5.0     8872\n",
      "9.0     8872\n",
      "4.0     8872\n",
      "11.0    8872\n",
      "3.0     8872\n",
      "10.0    8872\n",
      "2.0     8872\n",
      "1.0     8872\n",
      "8.0     8872\n",
      "6.0     8872\n",
      "Name: Activity, dtype: int64\n"
     ]
    },
    {
     "data": {
      "text/plain": [
       "(97592, 7)"
      ]
     },
     "execution_count": 6,
     "metadata": {},
     "output_type": "execute_result"
    }
   ],
   "source": [
    "bal_data=pd.DataFrame()\n",
    "bal_data=bal_data.append([Walking,Standing,Sitting,Laying,Jumping,Falling_sideways,Falling_backwards,\n",
    "                          Falling_forward_using_hands,Falling_forward_using_knees,Falling_sitting_in_empty_chair,\n",
    "                          Picking_up_an_object])\n",
    "print(bal_data[\"Activity\"].value_counts())\n",
    "np.shape(bal_data)"
   ]
  },
  {
   "cell_type": "code",
   "execution_count": 7,
   "metadata": {},
   "outputs": [],
   "source": [
    "x=bal_data[['BeltAccelerometer', 'Unnamed: 16',\n",
    "       'Unnamed: 17', 'BeltAngularVelocity', 'Unnamed: 19', 'Unnamed: 20']]\n",
    "y=bal_data[\"Activity\"]"
   ]
  },
  {
   "cell_type": "code",
   "execution_count": 8,
   "metadata": {},
   "outputs": [
    {
     "data": {
      "text/html": [
       "<div>\n",
       "<style scoped>\n",
       "    .dataframe tbody tr th:only-of-type {\n",
       "        vertical-align: middle;\n",
       "    }\n",
       "\n",
       "    .dataframe tbody tr th {\n",
       "        vertical-align: top;\n",
       "    }\n",
       "\n",
       "    .dataframe thead th {\n",
       "        text-align: right;\n",
       "    }\n",
       "</style>\n",
       "<table border=\"1\" class=\"dataframe\">\n",
       "  <thead>\n",
       "    <tr style=\"text-align: right;\">\n",
       "      <th></th>\n",
       "      <th>BeltAccelerometer</th>\n",
       "      <th>Unnamed: 16</th>\n",
       "      <th>Unnamed: 17</th>\n",
       "      <th>BeltAngularVelocity</th>\n",
       "      <th>Unnamed: 19</th>\n",
       "      <th>Unnamed: 20</th>\n",
       "      <th>Activity</th>\n",
       "      <th>label</th>\n",
       "    </tr>\n",
       "  </thead>\n",
       "  <tbody>\n",
       "    <tr>\n",
       "      <td>2832</td>\n",
       "      <td>0.125</td>\n",
       "      <td>0.909</td>\n",
       "      <td>0.526</td>\n",
       "      <td>34.451</td>\n",
       "      <td>-8.354</td>\n",
       "      <td>-33.232</td>\n",
       "      <td>6.0</td>\n",
       "      <td>5</td>\n",
       "    </tr>\n",
       "    <tr>\n",
       "      <td>2833</td>\n",
       "      <td>0.280</td>\n",
       "      <td>1.057</td>\n",
       "      <td>0.640</td>\n",
       "      <td>-31.463</td>\n",
       "      <td>-24.024</td>\n",
       "      <td>-0.549</td>\n",
       "      <td>6.0</td>\n",
       "      <td>5</td>\n",
       "    </tr>\n",
       "    <tr>\n",
       "      <td>2834</td>\n",
       "      <td>0.280</td>\n",
       "      <td>1.057</td>\n",
       "      <td>0.640</td>\n",
       "      <td>1.220</td>\n",
       "      <td>-26.524</td>\n",
       "      <td>27.927</td>\n",
       "      <td>6.0</td>\n",
       "      <td>5</td>\n",
       "    </tr>\n",
       "    <tr>\n",
       "      <td>2835</td>\n",
       "      <td>0.335</td>\n",
       "      <td>1.095</td>\n",
       "      <td>0.394</td>\n",
       "      <td>34.634</td>\n",
       "      <td>-10.427</td>\n",
       "      <td>16.280</td>\n",
       "      <td>6.0</td>\n",
       "      <td>5</td>\n",
       "    </tr>\n",
       "    <tr>\n",
       "      <td>2836</td>\n",
       "      <td>0.335</td>\n",
       "      <td>1.095</td>\n",
       "      <td>0.394</td>\n",
       "      <td>-58.171</td>\n",
       "      <td>5.000</td>\n",
       "      <td>-2.744</td>\n",
       "      <td>6.0</td>\n",
       "      <td>5</td>\n",
       "    </tr>\n",
       "  </tbody>\n",
       "</table>\n",
       "</div>"
      ],
      "text/plain": [
       "      BeltAccelerometer  Unnamed: 16  Unnamed: 17  BeltAngularVelocity  \\\n",
       "2832              0.125        0.909        0.526               34.451   \n",
       "2833              0.280        1.057        0.640              -31.463   \n",
       "2834              0.280        1.057        0.640                1.220   \n",
       "2835              0.335        1.095        0.394               34.634   \n",
       "2836              0.335        1.095        0.394              -58.171   \n",
       "\n",
       "      Unnamed: 19  Unnamed: 20  Activity  label  \n",
       "2832       -8.354      -33.232       6.0      5  \n",
       "2833      -24.024       -0.549       6.0      5  \n",
       "2834      -26.524       27.927       6.0      5  \n",
       "2835      -10.427       16.280       6.0      5  \n",
       "2836        5.000       -2.744       6.0      5  "
      ]
     },
     "execution_count": 8,
     "metadata": {},
     "output_type": "execute_result"
    }
   ],
   "source": [
    "from sklearn.preprocessing import LabelEncoder\n",
    "label = LabelEncoder()\n",
    "bal_data['label'] = label.fit_transform(bal_data['Activity'])\n",
    "bal_data.head()"
   ]
  },
  {
   "cell_type": "code",
   "execution_count": 9,
   "metadata": {},
   "outputs": [],
   "source": [
    "X = bal_data[['BeltAccelerometer', 'Unnamed: 16',\n",
    "       'Unnamed: 17', 'BeltAngularVelocity', 'Unnamed: 19', 'Unnamed: 20']]\n",
    "y = bal_data['label']"
   ]
  },
  {
   "cell_type": "code",
   "execution_count": 10,
   "metadata": {},
   "outputs": [
    {
     "data": {
      "text/html": [
       "<div>\n",
       "<style scoped>\n",
       "    .dataframe tbody tr th:only-of-type {\n",
       "        vertical-align: middle;\n",
       "    }\n",
       "\n",
       "    .dataframe tbody tr th {\n",
       "        vertical-align: top;\n",
       "    }\n",
       "\n",
       "    .dataframe thead th {\n",
       "        text-align: right;\n",
       "    }\n",
       "</style>\n",
       "<table border=\"1\" class=\"dataframe\">\n",
       "  <thead>\n",
       "    <tr style=\"text-align: right;\">\n",
       "      <th></th>\n",
       "      <th>BeltAccelerometer</th>\n",
       "      <th>Unnamed: 16</th>\n",
       "      <th>Unnamed: 17</th>\n",
       "      <th>BeltAngularVelocity</th>\n",
       "      <th>Unnamed: 19</th>\n",
       "      <th>Unnamed: 20</th>\n",
       "    </tr>\n",
       "  </thead>\n",
       "  <tbody>\n",
       "    <tr>\n",
       "      <td>0</td>\n",
       "      <td>0.282292</td>\n",
       "      <td>1.383322</td>\n",
       "      <td>0.568042</td>\n",
       "      <td>0.384053</td>\n",
       "      <td>-0.079521</td>\n",
       "      <td>-0.458300</td>\n",
       "    </tr>\n",
       "    <tr>\n",
       "      <td>1</td>\n",
       "      <td>0.609097</td>\n",
       "      <td>1.579891</td>\n",
       "      <td>0.738009</td>\n",
       "      <td>-0.387567</td>\n",
       "      <td>-0.231992</td>\n",
       "      <td>-0.025111</td>\n",
       "    </tr>\n",
       "    <tr>\n",
       "      <td>2</td>\n",
       "      <td>0.609097</td>\n",
       "      <td>1.579891</td>\n",
       "      <td>0.738009</td>\n",
       "      <td>-0.004965</td>\n",
       "      <td>-0.256317</td>\n",
       "      <td>0.352317</td>\n",
       "    </tr>\n",
       "    <tr>\n",
       "      <td>3</td>\n",
       "      <td>0.725060</td>\n",
       "      <td>1.630361</td>\n",
       "      <td>0.371238</td>\n",
       "      <td>0.386195</td>\n",
       "      <td>-0.099691</td>\n",
       "      <td>0.197945</td>\n",
       "    </tr>\n",
       "    <tr>\n",
       "      <td>4</td>\n",
       "      <td>0.725060</td>\n",
       "      <td>1.630361</td>\n",
       "      <td>0.371238</td>\n",
       "      <td>-0.700223</td>\n",
       "      <td>0.050415</td>\n",
       "      <td>-0.054204</td>\n",
       "    </tr>\n",
       "    <tr>\n",
       "      <td>...</td>\n",
       "      <td>...</td>\n",
       "      <td>...</td>\n",
       "      <td>...</td>\n",
       "      <td>...</td>\n",
       "      <td>...</td>\n",
       "      <td>...</td>\n",
       "    </tr>\n",
       "    <tr>\n",
       "      <td>97587</td>\n",
       "      <td>-1.754439</td>\n",
       "      <td>0.733846</td>\n",
       "      <td>-0.763366</td>\n",
       "      <td>0.020731</td>\n",
       "      <td>-0.005358</td>\n",
       "      <td>0.000748</td>\n",
       "    </tr>\n",
       "    <tr>\n",
       "      <td>97588</td>\n",
       "      <td>-1.748113</td>\n",
       "      <td>0.739158</td>\n",
       "      <td>-0.761875</td>\n",
       "      <td>0.014304</td>\n",
       "      <td>-0.002984</td>\n",
       "      <td>-0.001664</td>\n",
       "    </tr>\n",
       "    <tr>\n",
       "      <td>97589</td>\n",
       "      <td>-1.748113</td>\n",
       "      <td>0.739158</td>\n",
       "      <td>-0.761875</td>\n",
       "      <td>-0.009963</td>\n",
       "      <td>-0.010106</td>\n",
       "      <td>-0.016217</td>\n",
       "    </tr>\n",
       "    <tr>\n",
       "      <td>97590</td>\n",
       "      <td>-1.748113</td>\n",
       "      <td>0.731189</td>\n",
       "      <td>-0.769330</td>\n",
       "      <td>0.001450</td>\n",
       "      <td>-0.002984</td>\n",
       "      <td>-0.008132</td>\n",
       "    </tr>\n",
       "    <tr>\n",
       "      <td>97591</td>\n",
       "      <td>-1.748113</td>\n",
       "      <td>0.731189</td>\n",
       "      <td>-0.769330</td>\n",
       "      <td>0.017874</td>\n",
       "      <td>-0.011283</td>\n",
       "      <td>-0.000061</td>\n",
       "    </tr>\n",
       "  </tbody>\n",
       "</table>\n",
       "<p>97592 rows × 6 columns</p>\n",
       "</div>"
      ],
      "text/plain": [
       "       BeltAccelerometer  Unnamed: 16  Unnamed: 17  BeltAngularVelocity  \\\n",
       "0               0.282292     1.383322     0.568042             0.384053   \n",
       "1               0.609097     1.579891     0.738009            -0.387567   \n",
       "2               0.609097     1.579891     0.738009            -0.004965   \n",
       "3               0.725060     1.630361     0.371238             0.386195   \n",
       "4               0.725060     1.630361     0.371238            -0.700223   \n",
       "...                  ...          ...          ...                  ...   \n",
       "97587          -1.754439     0.733846    -0.763366             0.020731   \n",
       "97588          -1.748113     0.739158    -0.761875             0.014304   \n",
       "97589          -1.748113     0.739158    -0.761875            -0.009963   \n",
       "97590          -1.748113     0.731189    -0.769330             0.001450   \n",
       "97591          -1.748113     0.731189    -0.769330             0.017874   \n",
       "\n",
       "       Unnamed: 19  Unnamed: 20  \n",
       "0        -0.079521    -0.458300  \n",
       "1        -0.231992    -0.025111  \n",
       "2        -0.256317     0.352317  \n",
       "3        -0.099691     0.197945  \n",
       "4         0.050415    -0.054204  \n",
       "...            ...          ...  \n",
       "97587    -0.005358     0.000748  \n",
       "97588    -0.002984    -0.001664  \n",
       "97589    -0.010106    -0.016217  \n",
       "97590    -0.002984    -0.008132  \n",
       "97591    -0.011283    -0.000061  \n",
       "\n",
       "[97592 rows x 6 columns]"
      ]
     },
     "execution_count": 10,
     "metadata": {},
     "output_type": "execute_result"
    }
   ],
   "source": [
    "from sklearn.preprocessing import StandardScaler, LabelEncoder\n",
    "scaler = StandardScaler()\n",
    "X = scaler.fit_transform(X)\n",
    "\n",
    "X = pd.DataFrame(data = X, columns = ['BeltAccelerometer', 'Unnamed: 16',\n",
    "       'Unnamed: 17', 'BeltAngularVelocity', 'Unnamed: 19', 'Unnamed: 20'])\n",
    "\n",
    "\n",
    "X"
   ]
  },
  {
   "cell_type": "code",
   "execution_count": 11,
   "metadata": {},
   "outputs": [],
   "source": [
    "from sklearn import svm\n",
    "from sklearn.model_selection import train_test_split \n",
    "X_train, X_test, y_train, y_test = train_test_split(X, y, test_size = 0.3, random_state = 0, stratify = y)"
   ]
  },
  {
   "cell_type": "code",
   "execution_count": 12,
   "metadata": {},
   "outputs": [
    {
     "data": {
      "text/plain": [
       "((68314, 6), (68314,))"
      ]
     },
     "execution_count": 12,
     "metadata": {},
     "output_type": "execute_result"
    }
   ],
   "source": [
    "X_train.shape,y_train.shape"
   ]
  },
  {
   "cell_type": "code",
   "execution_count": 13,
   "metadata": {},
   "outputs": [
    {
     "data": {
      "text/plain": [
       "((29278, 6), (29278,))"
      ]
     },
     "execution_count": 13,
     "metadata": {},
     "output_type": "execute_result"
    }
   ],
   "source": [
    "X_test.shape,y_test.shape"
   ]
  },
  {
   "cell_type": "code",
   "execution_count": 14,
   "metadata": {},
   "outputs": [
    {
     "name": "stdout",
     "output_type": "stream",
     "text": [
      "[LibSVM][LibSVM][LibSVM]"
     ]
    },
    {
     "name": "stderr",
     "output_type": "stream",
     "text": [
      "C:\\Users\\Rupali\\Anaconda3\\lib\\site-packages\\sklearn\\svm\\base.py:193: FutureWarning: The default value of gamma will change from 'auto' to 'scale' in version 0.22 to account better for unscaled features. Set gamma explicitly to 'auto' or 'scale' to avoid this warning.\n",
      "  \"avoid this warning.\", FutureWarning)\n"
     ]
    },
    {
     "name": "stdout",
     "output_type": "stream",
     "text": [
      "[LibSVM]"
     ]
    }
   ],
   "source": [
    "linear = svm.SVC(kernel='linear', verbose=1, C=1, decision_function_shape='ovo').fit(X_train, y_train)\n",
    "rbf = svm.SVC(kernel='rbf', gamma=1, verbose=1, C=1, decision_function_shape='ovo').fit(X_train, y_train)\n",
    "poly = svm.SVC(kernel='poly', gamma='auto', degree=3, verbose=1, C=1, decision_function_shape='ovo').fit(X_train, y_train)\n",
    "sig = svm.SVC(kernel='sigmoid',verbose=1, C=1, decision_function_shape='ovo').fit(X_train, y_train)"
   ]
  },
  {
   "cell_type": "code",
   "execution_count": 15,
   "metadata": {},
   "outputs": [],
   "source": [
    "linear_pred = linear.predict(X_test)\n",
    "poly_pred = poly.predict(X_test)\n",
    "rbf_pred = rbf.predict(X_test)\n",
    "sig_pred = sig.predict(X_test)"
   ]
  },
  {
   "cell_type": "code",
   "execution_count": 16,
   "metadata": {},
   "outputs": [],
   "source": [
    "accuracy_lin = linear.score(X_test, y_test)\n",
    "accuracy_poly = poly.score(X_test, y_test)\n",
    "accuracy_rbf = rbf.score(X_test, y_test)\n",
    "accuracy_sig = sig.score(X_test, y_test)\n"
   ]
  },
  {
   "cell_type": "code",
   "execution_count": 17,
   "metadata": {},
   "outputs": [
    {
     "name": "stdout",
     "output_type": "stream",
     "text": [
      "0.43165516770271195\n",
      "0.4994876699228089\n",
      "0.7583509802582143\n",
      "0.2576678734886263\n"
     ]
    }
   ],
   "source": [
    "print(accuracy_lin)\n",
    "print(accuracy_poly)\n",
    "print(accuracy_rbf)\n",
    "print(accuracy_sig)"
   ]
  },
  {
   "cell_type": "code",
   "execution_count": 18,
   "metadata": {},
   "outputs": [
    {
     "data": {
      "text/plain": [
       "array([[1838,  315,   13,   20,  114,   27,   65,    0,  152,  118,    0],\n",
       "       [ 694, 1314,   19,   46,   14,   38,   59,   40,  307,  131,    0],\n",
       "       [  31,   61, 1216,  146,  345,   28,   35,   12,  247,  155,  385],\n",
       "       [  20,   63,   66, 1816,   27,   57,  103,   41,  326,  140,    3],\n",
       "       [  43,   61,  494,   88, 1130,   31,   25,   99,  212,  109,  369],\n",
       "       [   9,   24,    0,   17,    4, 2513,   27,    0,   65,    3,    0],\n",
       "       [   0,    2,    0,    2,    0,   20, 2616,    0,   22,    0,    0],\n",
       "       [   1,    0,    0,   16,    8,    1,    4, 2627,    4,    0,    1],\n",
       "       [  58,  164,   15,   47,   12,   54,  229,    2, 2044,   37,    0],\n",
       "       [  14,   17,    7,   19,    6,   49,   13,    0,   49, 2487,    0],\n",
       "       [   1,    0,   40,    7,   11,    0,    0,    0,    0,    0, 2602]],\n",
       "      dtype=int64)"
      ]
     },
     "execution_count": 18,
     "metadata": {},
     "output_type": "execute_result"
    }
   ],
   "source": [
    "from sklearn.metrics import confusion_matrix\n",
    "cm=confusion_matrix(y_test,rbf_pred)\n",
    "cm"
   ]
  },
  {
   "cell_type": "code",
   "execution_count": 19,
   "metadata": {},
   "outputs": [],
   "source": [
    "m=cm/cm.sum(axis=1)\n",
    "cm=np.around(m,3)"
   ]
  },
  {
   "cell_type": "code",
   "execution_count": 20,
   "metadata": {},
   "outputs": [
    {
     "data": {
      "text/plain": [
       "(29278,)"
      ]
     },
     "execution_count": 20,
     "metadata": {},
     "output_type": "execute_result"
    }
   ],
   "source": [
    "y_test.shape"
   ]
  },
  {
   "cell_type": "code",
   "execution_count": 21,
   "metadata": {},
   "outputs": [
    {
     "data": {
      "text/plain": [
       "8     2662\n",
       "7     2662\n",
       "6     2662\n",
       "5     2662\n",
       "3     2662\n",
       "1     2662\n",
       "0     2662\n",
       "10    2661\n",
       "9     2661\n",
       "4     2661\n",
       "2     2661\n",
       "Name: label, dtype: int64"
      ]
     },
     "execution_count": 21,
     "metadata": {},
     "output_type": "execute_result"
    }
   ],
   "source": [
    "y_test.value_counts()"
   ]
  },
  {
   "cell_type": "code",
   "execution_count": 22,
   "metadata": {},
   "outputs": [
    {
     "data": {
      "image/png": "[encoded data removed]",
      "text/plain": [
       "<Figure size 1080x720 with 2 Axes>"
      ]
     },
     "metadata": {
      "needs_background": "light"
     },
     "output_type": "display_data"
    }
   ],
   "source": [
    "import seaborn as sns\n",
    "axis_labels = ['Falling_Forward_Using_Hands','Falling_Forward_Using_Knees','Falling_Backwards','Falling_Sideways','Falling_Sitting_in_Empty_Chair','Walking','Standing','Sitting','Picking_Up_an_Object','Jumping','Laying']\n",
    "figure = plt.figure(figsize=(15,10))\n",
    "sns.heatmap(cm, annot=True, cmap=plt.cm.Blues, xticklabels=axis_labels, yticklabels=axis_labels)\n",
    "plt.ylim(len(cm),0,0)\n",
    "plt.tight_layout()\n",
    "plt.ylabel('True label')\n",
    "plt.xlabel('predicted label')\n",
    "plt.show()"
   ]
  },
  {
   "cell_type": "code",
   "execution_count": null,
   "metadata": {},
   "outputs": [],
   "source": []
  }
 ],
 "metadata": {
  "kernelspec": {
   "display_name": "Python 3",
   "language": "python",
   "name": "python3"
  },
  "language_info": {
   "codemirror_mode": {
    "name": "ipython",
    "version": 3
   },
   "file_extension": ".py",
   "mimetype": "text/x-python",
   "name": "python",
   "nbconvert_exporter": "python",
   "pygments_lexer": "ipython3",
   "version": "3.7.4"
  }
 },
 "nbformat": 4,
 "nbformat_minor": 2
}
